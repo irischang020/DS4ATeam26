{
 "cells": [
  {
   "cell_type": "code",
   "execution_count": 101,
   "metadata": {},
   "outputs": [],
   "source": [
    "import os\n",
    "import numpy as np\n",
    "import pandas as pd\n",
    "from datetime import datetime as dt"
   ]
  },
  {
   "cell_type": "code",
   "execution_count": 102,
   "metadata": {},
   "outputs": [
    {
     "name": "stdout",
     "output_type": "stream",
     "text": [
      "/mnt/c/Users/liv08/Desktop/DS4A/robintrack-popularity-history.tar/robintrack-popularity-history/tmp\n"
     ]
    }
   ],
   "source": [
    "print(os.getcwd())"
   ]
  },
  {
   "cell_type": "code",
   "execution_count": 103,
   "metadata": {},
   "outputs": [],
   "source": [
    "directory = \"/mnt/c/Users/liv08/Desktop/DS4A/robintrack-popularity-history.tar/robintrack-popularity-history/tmp/popularity_export\""
   ]
  },
  {
   "cell_type": "code",
   "execution_count": 104,
   "metadata": {},
   "outputs": [],
   "source": [
    "# generate list of stock tickers that we have data on\n",
    "available_on_Robinhood = []\n",
    "for filename in os.listdir(directory):\n",
    "    if filename.endswith(\".csv\"):\n",
    "        available_on_Robinhood += [filename[:-4]]"
   ]
  },
  {
   "cell_type": "code",
   "execution_count": 106,
   "metadata": {},
   "outputs": [],
   "source": [
    "pd.DataFrame(available_on_Robinhood).to_csv(\n",
    "    r'/mnt/c/Users/liv08/Desktop/DS4A/robintrack-popularity-history.tar/robintrack-popularity-history/tmp/Robinhood_index.csv')"
   ]
  },
  {
   "cell_type": "code",
   "execution_count": 107,
   "metadata": {},
   "outputs": [],
   "source": [
    "stocks = pd.read_csv(\"stocks.csv\", header = None)"
   ]
  },
  {
   "cell_type": "code",
   "execution_count": 108,
   "metadata": {},
   "outputs": [
    {
     "data": {
      "text/plain": [
       "0      CPRX\n",
       "1      BABA\n",
       "2       SNE\n",
       "3      APHA\n",
       "4     GOOGL\n",
       "5      MSFT\n",
       "6      AMZN\n",
       "7       NRZ\n",
       "8      PTON\n",
       "9      PYPL\n",
       "10      NKE\n",
       "11        V\n",
       "12     UBER\n",
       "13       GM\n",
       "14       FB\n",
       "15       KO\n",
       "16     MRNA\n",
       "17     NVDA\n",
       "18     PLUG\n",
       "19     TXMD\n",
       "20     ZNGA\n",
       "21      WMT\n",
       "22      JNJ\n",
       "23    NTDOY\n",
       "24     DKNG\n",
       "25       ET\n",
       "26     PENN\n",
       "27       GE\n",
       "28      JPM\n",
       "29      DIS\n",
       "Name: 0, dtype: object"
      ]
     },
     "execution_count": 108,
     "metadata": {},
     "output_type": "execute_result"
    }
   ],
   "source": [
    "stocks[0]"
   ]
  },
  {
   "cell_type": "code",
   "execution_count": 95,
   "metadata": {},
   "outputs": [],
   "source": [
    "# concatenate data to one csv\n",
    "opening = pd.DataFrame({'date': pd.date_range(start = '2018-05-02', end = '2020-08-13')})\n",
    "for filename in os.listdir(directory):\n",
    "    if filename.endswith(\".csv\"):\n",
    "        if filename[:-4] in list(stocks[0]):\n",
    "            data = pd.read_csv('popularity_export' + '/' + str(filename))\n",
    "            daily = data.groupby(pd.to_datetime(data['timestamp']).dt.date).first()\n",
    "            daily[filename[:-4]] = daily['users_holding']\n",
    "            daily.index = pd.to_datetime(daily.index)\n",
    "            opening = pd.merge(left = opening, right = daily[filename[:-4]], how = 'left', left_on = 'date', right_on = 'timestamp')"
   ]
  },
  {
   "cell_type": "code",
   "execution_count": 97,
   "metadata": {},
   "outputs": [],
   "source": [
    "pd.DataFrame(opening).to_csv(r'/mnt/c/Users/liv08/Desktop/DS4A/robintrack-popularity-history.tar/robintrack-popularity-history/tmp/opening_popularity.csv')"
   ]
  },
  {
   "cell_type": "code",
   "execution_count": 98,
   "metadata": {},
   "outputs": [],
   "source": [
    "# concatenate data to one csv\n",
    "closing = pd.DataFrame({'date': pd.date_range(start = '2018-05-02', end = '2020-08-13')})\n",
    "for filename in os.listdir(directory):\n",
    "    if filename.endswith(\".csv\"):\n",
    "        if filename[:-4] in list(stocks[0]):\n",
    "            data = pd.read_csv('popularity_export' + '/' + str(filename))\n",
    "            daily = data.groupby(pd.to_datetime(data['timestamp']).dt.date).last()\n",
    "            daily[filename[:-4]] = daily['users_holding']\n",
    "            daily.index = pd.to_datetime(daily.index)\n",
    "            closing = pd.merge(left = closing, right = daily[filename[:-4]], how = 'left', left_on = 'date', right_on = 'timestamp')"
   ]
  },
  {
   "cell_type": "code",
   "execution_count": 100,
   "metadata": {},
   "outputs": [],
   "source": [
    "pd.DataFrame(opening).to_csv(r'/mnt/c/Users/liv08/Desktop/DS4A/robintrack-popularity-history.tar/robintrack-popularity-history/tmp/closing_popularity.csv')"
   ]
  },
  {
   "cell_type": "code",
   "execution_count": null,
   "metadata": {},
   "outputs": [],
   "source": []
  }
 ],
 "metadata": {
  "kernelspec": {
   "display_name": "Python 3",
   "language": "python",
   "name": "python3"
  },
  "language_info": {
   "codemirror_mode": {
    "name": "ipython",
    "version": 3
   },
   "file_extension": ".py",
   "mimetype": "text/x-python",
   "name": "python",
   "nbconvert_exporter": "python",
   "pygments_lexer": "ipython3",
   "version": "3.6.9"
  }
 },
 "nbformat": 4,
 "nbformat_minor": 2
}
